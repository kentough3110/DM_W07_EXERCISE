{
 "cells": [
  {
   "cell_type": "markdown",
   "metadata": {
    "id": "W2efh8eL23qK"
   },
   "source": [
    "# Exercise Week 7:Clustering\n",
    "-------------------------------------------\n",
    "\n",
    "dataset:\n",
    "\n",
    "a. https://raw.githubusercontent.com/GTerrence/dataset/main/COVID-19%20Coronavirus.csv\n"
   ]
  },
  {
   "cell_type": "markdown",
   "metadata": {
    "id": "Q93i8D5M3orJ"
   },
   "source": [
    "Import library yang dibutuhkan"
   ]
  },
  {
   "cell_type": "code",
   "execution_count": 1,
   "metadata": {
    "id": "InthM3ox1VA1"
   },
   "outputs": [],
   "source": [
    "import numpy as np\n",
    "import pandas as pd\n",
    "from matplotlib import pyplot as plt\n",
    "from sklearn.preprocessing import StandardScaler\n",
    "from sklearn.preprocessing import LabelEncoder\n",
    "import seaborn\n",
    "from sklearn.cluster import KMeans\n",
    "from sklearn.datasets import make_blobs\n",
    "from kneed import KneeLocator\n",
    "from scipy.cluster.hierarchy import dendrogram, linkage\n",
    "import statistics\n",
    "from sklearn.cluster import AgglomerativeClustering\n",
    "from sklearn.impute import SimpleImputer"
   ]
  },
  {
   "cell_type": "markdown",
   "metadata": {
    "id": "5kQApGMa30nv"
   },
   "source": [
    "Load dataset"
   ]
  },
  {
   "cell_type": "code",
   "execution_count": 2,
   "metadata": {
    "id": "RSXKxZMJ32tQ"
   },
   "outputs": [
    {
     "data": {
      "text/html": [
       "<div>\n",
       "<style scoped>\n",
       "    .dataframe tbody tr th:only-of-type {\n",
       "        vertical-align: middle;\n",
       "    }\n",
       "\n",
       "    .dataframe tbody tr th {\n",
       "        vertical-align: top;\n",
       "    }\n",
       "\n",
       "    .dataframe thead th {\n",
       "        text-align: right;\n",
       "    }\n",
       "</style>\n",
       "<table border=\"1\" class=\"dataframe\">\n",
       "  <thead>\n",
       "    <tr style=\"text-align: right;\">\n",
       "      <th></th>\n",
       "      <th>Country</th>\n",
       "      <th>Other names</th>\n",
       "      <th>ISO 3166-1 alpha-3 CODE</th>\n",
       "      <th>Population</th>\n",
       "      <th>Continent</th>\n",
       "      <th>Total Cases</th>\n",
       "      <th>Total Deaths</th>\n",
       "      <th>Tot Cases//1M pop</th>\n",
       "      <th>Tot Deaths/1M pop</th>\n",
       "      <th>Death percentage</th>\n",
       "    </tr>\n",
       "  </thead>\n",
       "  <tbody>\n",
       "    <tr>\n",
       "      <th>0</th>\n",
       "      <td>Afghanistan</td>\n",
       "      <td>Afghanistan</td>\n",
       "      <td>AFG</td>\n",
       "      <td>40462186</td>\n",
       "      <td>Asia</td>\n",
       "      <td>177827</td>\n",
       "      <td>7671</td>\n",
       "      <td>4395</td>\n",
       "      <td>190</td>\n",
       "      <td>4.313743</td>\n",
       "    </tr>\n",
       "    <tr>\n",
       "      <th>1</th>\n",
       "      <td>Albania</td>\n",
       "      <td>Albania</td>\n",
       "      <td>ALB</td>\n",
       "      <td>2872296</td>\n",
       "      <td>Europe</td>\n",
       "      <td>273870</td>\n",
       "      <td>3492</td>\n",
       "      <td>95349</td>\n",
       "      <td>1216</td>\n",
       "      <td>1.275058</td>\n",
       "    </tr>\n",
       "    <tr>\n",
       "      <th>2</th>\n",
       "      <td>Algeria</td>\n",
       "      <td>Algeria</td>\n",
       "      <td>DZA</td>\n",
       "      <td>45236699</td>\n",
       "      <td>Africa</td>\n",
       "      <td>265691</td>\n",
       "      <td>6874</td>\n",
       "      <td>5873</td>\n",
       "      <td>152</td>\n",
       "      <td>2.587216</td>\n",
       "    </tr>\n",
       "    <tr>\n",
       "      <th>3</th>\n",
       "      <td>Andorra</td>\n",
       "      <td>Andorra</td>\n",
       "      <td>AND</td>\n",
       "      <td>77481</td>\n",
       "      <td>Europe</td>\n",
       "      <td>40024</td>\n",
       "      <td>153</td>\n",
       "      <td>516565</td>\n",
       "      <td>1975</td>\n",
       "      <td>0.382271</td>\n",
       "    </tr>\n",
       "    <tr>\n",
       "      <th>4</th>\n",
       "      <td>Angola</td>\n",
       "      <td>Angola</td>\n",
       "      <td>AGO</td>\n",
       "      <td>34654212</td>\n",
       "      <td>Africa</td>\n",
       "      <td>99194</td>\n",
       "      <td>1900</td>\n",
       "      <td>2862</td>\n",
       "      <td>55</td>\n",
       "      <td>1.915438</td>\n",
       "    </tr>\n",
       "  </tbody>\n",
       "</table>\n",
       "</div>"
      ],
      "text/plain": [
       "       Country  Other names ISO 3166-1 alpha-3 CODE  Population Continent  \\\n",
       "0  Afghanistan  Afghanistan                     AFG    40462186      Asia   \n",
       "1      Albania      Albania                     ALB     2872296    Europe   \n",
       "2      Algeria      Algeria                     DZA    45236699    Africa   \n",
       "3      Andorra      Andorra                     AND       77481    Europe   \n",
       "4       Angola       Angola                     AGO    34654212    Africa   \n",
       "\n",
       "   Total Cases  Total Deaths  Tot Cases//1M pop  Tot Deaths/1M pop  \\\n",
       "0       177827          7671               4395                190   \n",
       "1       273870          3492              95349               1216   \n",
       "2       265691          6874               5873                152   \n",
       "3        40024           153             516565               1975   \n",
       "4        99194          1900               2862                 55   \n",
       "\n",
       "   Death percentage  \n",
       "0          4.313743  \n",
       "1          1.275058  \n",
       "2          2.587216  \n",
       "3          0.382271  \n",
       "4          1.915438  "
      ]
     },
     "execution_count": 2,
     "metadata": {},
     "output_type": "execute_result"
    }
   ],
   "source": [
    "url = \"https://raw.githubusercontent.com/GTerrence/dataset/main/COVID-19%20Coronavirus.csv\"\n",
    "df = pd.read_csv(url)\n",
    "df.head()"
   ]
  },
  {
   "cell_type": "markdown",
   "metadata": {
    "id": "wLpmamec9jig"
   },
   "source": [
    "Data Preparation\n",
    "\n",
    "1. cek apakah masih ada missing value pada data\n",
    "2. lakukan label encoder\n",
    "3. lakukan feature scaling pada data"
   ]
  },
  {
   "cell_type": "code",
   "execution_count": 3,
   "metadata": {},
   "outputs": [
    {
     "name": "stdout",
     "output_type": "stream",
     "text": [
      "<class 'pandas.core.frame.DataFrame'>\n",
      "RangeIndex: 225 entries, 0 to 224\n",
      "Data columns (total 10 columns):\n",
      " #   Column                   Non-Null Count  Dtype  \n",
      "---  ------                   --------------  -----  \n",
      " 0   Country                  225 non-null    object \n",
      " 1   Other names              224 non-null    object \n",
      " 2   ISO 3166-1 alpha-3 CODE  225 non-null    object \n",
      " 3   Population               225 non-null    int64  \n",
      " 4   Continent                225 non-null    object \n",
      " 5   Total Cases              225 non-null    int64  \n",
      " 6   Total Deaths             225 non-null    int64  \n",
      " 7   Tot Cases//1M pop        225 non-null    int64  \n",
      " 8   Tot Deaths/1M pop        225 non-null    int64  \n",
      " 9   Death percentage         225 non-null    float64\n",
      "dtypes: float64(1), int64(5), object(4)\n",
      "memory usage: 17.7+ KB\n"
     ]
    }
   ],
   "source": [
    "df.info()"
   ]
  },
  {
   "cell_type": "code",
   "execution_count": 4,
   "metadata": {},
   "outputs": [
    {
     "data": {
      "text/html": [
       "<div>\n",
       "<style scoped>\n",
       "    .dataframe tbody tr th:only-of-type {\n",
       "        vertical-align: middle;\n",
       "    }\n",
       "\n",
       "    .dataframe tbody tr th {\n",
       "        vertical-align: top;\n",
       "    }\n",
       "\n",
       "    .dataframe thead th {\n",
       "        text-align: right;\n",
       "    }\n",
       "</style>\n",
       "<table border=\"1\" class=\"dataframe\">\n",
       "  <thead>\n",
       "    <tr style=\"text-align: right;\">\n",
       "      <th></th>\n",
       "      <th>Population</th>\n",
       "      <th>Total Cases</th>\n",
       "      <th>Total Deaths</th>\n",
       "      <th>Tot Cases//1M pop</th>\n",
       "      <th>Tot Deaths/1M pop</th>\n",
       "      <th>Death percentage</th>\n",
       "    </tr>\n",
       "  </thead>\n",
       "  <tbody>\n",
       "    <tr>\n",
       "      <th>count</th>\n",
       "      <td>2.250000e+02</td>\n",
       "      <td>2.250000e+02</td>\n",
       "      <td>2.250000e+02</td>\n",
       "      <td>225.000000</td>\n",
       "      <td>225.000000</td>\n",
       "      <td>225.000000</td>\n",
       "    </tr>\n",
       "    <tr>\n",
       "      <th>mean</th>\n",
       "      <td>3.507321e+07</td>\n",
       "      <td>2.184781e+06</td>\n",
       "      <td>2.744813e+04</td>\n",
       "      <td>136900.373333</td>\n",
       "      <td>1096.715556</td>\n",
       "      <td>1.444125</td>\n",
       "    </tr>\n",
       "    <tr>\n",
       "      <th>std</th>\n",
       "      <td>1.392418e+08</td>\n",
       "      <td>7.275938e+06</td>\n",
       "      <td>9.689177e+04</td>\n",
       "      <td>145060.340289</td>\n",
       "      <td>1195.715543</td>\n",
       "      <td>1.741728</td>\n",
       "    </tr>\n",
       "    <tr>\n",
       "      <th>min</th>\n",
       "      <td>8.050000e+02</td>\n",
       "      <td>1.000000e+00</td>\n",
       "      <td>0.000000e+00</td>\n",
       "      <td>9.000000</td>\n",
       "      <td>0.000000</td>\n",
       "      <td>0.000000</td>\n",
       "    </tr>\n",
       "    <tr>\n",
       "      <th>25%</th>\n",
       "      <td>5.665570e+05</td>\n",
       "      <td>2.407100e+04</td>\n",
       "      <td>1.890000e+02</td>\n",
       "      <td>11384.000000</td>\n",
       "      <td>123.000000</td>\n",
       "      <td>0.511291</td>\n",
       "    </tr>\n",
       "    <tr>\n",
       "      <th>50%</th>\n",
       "      <td>5.827911e+06</td>\n",
       "      <td>1.639360e+05</td>\n",
       "      <td>1.965000e+03</td>\n",
       "      <td>88987.000000</td>\n",
       "      <td>708.000000</td>\n",
       "      <td>1.036905</td>\n",
       "    </tr>\n",
       "    <tr>\n",
       "      <th>75%</th>\n",
       "      <td>2.190585e+07</td>\n",
       "      <td>1.092547e+06</td>\n",
       "      <td>1.366000e+04</td>\n",
       "      <td>223335.000000</td>\n",
       "      <td>1795.000000</td>\n",
       "      <td>1.977017</td>\n",
       "    </tr>\n",
       "    <tr>\n",
       "      <th>max</th>\n",
       "      <td>1.439324e+09</td>\n",
       "      <td>8.183905e+07</td>\n",
       "      <td>1.008222e+06</td>\n",
       "      <td>696044.000000</td>\n",
       "      <td>6286.000000</td>\n",
       "      <td>18.151787</td>\n",
       "    </tr>\n",
       "  </tbody>\n",
       "</table>\n",
       "</div>"
      ],
      "text/plain": [
       "         Population   Total Cases  Total Deaths  Tot Cases//1M pop  \\\n",
       "count  2.250000e+02  2.250000e+02  2.250000e+02         225.000000   \n",
       "mean   3.507321e+07  2.184781e+06  2.744813e+04      136900.373333   \n",
       "std    1.392418e+08  7.275938e+06  9.689177e+04      145060.340289   \n",
       "min    8.050000e+02  1.000000e+00  0.000000e+00           9.000000   \n",
       "25%    5.665570e+05  2.407100e+04  1.890000e+02       11384.000000   \n",
       "50%    5.827911e+06  1.639360e+05  1.965000e+03       88987.000000   \n",
       "75%    2.190585e+07  1.092547e+06  1.366000e+04      223335.000000   \n",
       "max    1.439324e+09  8.183905e+07  1.008222e+06      696044.000000   \n",
       "\n",
       "       Tot Deaths/1M pop  Death percentage  \n",
       "count         225.000000        225.000000  \n",
       "mean         1096.715556          1.444125  \n",
       "std          1195.715543          1.741728  \n",
       "min             0.000000          0.000000  \n",
       "25%           123.000000          0.511291  \n",
       "50%           708.000000          1.036905  \n",
       "75%          1795.000000          1.977017  \n",
       "max          6286.000000         18.151787  "
      ]
     },
     "execution_count": 4,
     "metadata": {},
     "output_type": "execute_result"
    }
   ],
   "source": [
    "df.describe()"
   ]
  },
  {
   "cell_type": "code",
   "execution_count": 5,
   "metadata": {
    "id": "fAfk6XsgLeVl"
   },
   "outputs": [
    {
     "data": {
      "text/plain": [
       "Country                    0\n",
       "Other names                1\n",
       "ISO 3166-1 alpha-3 CODE    0\n",
       "Population                 0\n",
       "Continent                  0\n",
       "Total Cases                0\n",
       "Total Deaths               0\n",
       "Tot Cases//1M pop          0\n",
       "Tot Deaths/1M pop          0\n",
       "Death percentage           0\n",
       "dtype: int64"
      ]
     },
     "execution_count": 5,
     "metadata": {},
     "output_type": "execute_result"
    }
   ],
   "source": [
    "df.isnull().sum()"
   ]
  },
  {
   "cell_type": "code",
   "execution_count": 6,
   "metadata": {},
   "outputs": [
    {
     "data": {
      "text/plain": [
       "<AxesSubplot:>"
      ]
     },
     "execution_count": 6,
     "metadata": {},
     "output_type": "execute_result"
    },
    {
     "data": {
      "image/png": "[encoded data removed]",
      "text/plain": [
       "<Figure size 432x288 with 1 Axes>"
      ]
     },
     "metadata": {
      "needs_background": "light"
     },
     "output_type": "display_data"
    }
   ],
   "source": [
    "#check outliers\n",
    "df.boxplot()"
   ]
  },
  {
   "cell_type": "code",
   "execution_count": 7,
   "metadata": {},
   "outputs": [
    {
     "data": {
      "text/plain": [
       "array([[<AxesSubplot:title={'center':'Population'}>,\n",
       "        <AxesSubplot:title={'center':'Total Cases'}>],\n",
       "       [<AxesSubplot:title={'center':'Total Deaths'}>,\n",
       "        <AxesSubplot:title={'center':'Tot\\xa0Cases//1M pop'}>],\n",
       "       [<AxesSubplot:title={'center':'Tot\\xa0Deaths/1M pop'}>,\n",
       "        <AxesSubplot:title={'center':'Death percentage'}>]], dtype=object)"
      ]
     },
     "execution_count": 7,
     "metadata": {},
     "output_type": "execute_result"
    },
    {
     "data": {
      "image/png": "[encoded data removed]",
      "text/plain": [
       "<Figure size 432x288 with 6 Axes>"
      ]
     },
     "metadata": {
      "needs_background": "light"
     },
     "output_type": "display_data"
    }
   ],
   "source": [
    "#check skew\n",
    "df.hist()"
   ]
  },
  {
   "cell_type": "code",
   "execution_count": 8,
   "metadata": {},
   "outputs": [],
   "source": [
    "#check unique values to mapping\n",
    "#unique_continents = df[\"Continent\"].unique()\n",
    "#print(unique_continents)"
   ]
  },
  {
   "cell_type": "code",
   "execution_count": 9,
   "metadata": {},
   "outputs": [],
   "source": [
    "df = df.rename(columns={df.columns[7]: \"Total Cases per one mill\", df.columns[8]: \"Total Deaths per one mill\"})"
   ]
  },
  {
   "cell_type": "code",
   "execution_count": 10,
   "metadata": {},
   "outputs": [
    {
     "data": {
      "text/html": [
       "<div>\n",
       "<style scoped>\n",
       "    .dataframe tbody tr th:only-of-type {\n",
       "        vertical-align: middle;\n",
       "    }\n",
       "\n",
       "    .dataframe tbody tr th {\n",
       "        vertical-align: top;\n",
       "    }\n",
       "\n",
       "    .dataframe thead th {\n",
       "        text-align: right;\n",
       "    }\n",
       "</style>\n",
       "<table border=\"1\" class=\"dataframe\">\n",
       "  <thead>\n",
       "    <tr style=\"text-align: right;\">\n",
       "      <th></th>\n",
       "      <th>Country</th>\n",
       "      <th>Other names</th>\n",
       "      <th>ISO 3166-1 alpha-3 CODE</th>\n",
       "      <th>Population</th>\n",
       "      <th>Continent</th>\n",
       "      <th>Total Cases</th>\n",
       "      <th>Total Deaths</th>\n",
       "      <th>Total Cases per one mill</th>\n",
       "      <th>Total Deaths per one mill</th>\n",
       "      <th>Death percentage</th>\n",
       "    </tr>\n",
       "  </thead>\n",
       "  <tbody>\n",
       "    <tr>\n",
       "      <th>0</th>\n",
       "      <td>0</td>\n",
       "      <td>0</td>\n",
       "      <td>1</td>\n",
       "      <td>188</td>\n",
       "      <td>1</td>\n",
       "      <td>113</td>\n",
       "      <td>136</td>\n",
       "      <td>40</td>\n",
       "      <td>47</td>\n",
       "      <td>209</td>\n",
       "    </tr>\n",
       "    <tr>\n",
       "      <th>1</th>\n",
       "      <td>1</td>\n",
       "      <td>1</td>\n",
       "      <td>4</td>\n",
       "      <td>88</td>\n",
       "      <td>2</td>\n",
       "      <td>124</td>\n",
       "      <td>112</td>\n",
       "      <td>114</td>\n",
       "      <td>122</td>\n",
       "      <td>132</td>\n",
       "    </tr>\n",
       "    <tr>\n",
       "      <th>2</th>\n",
       "      <td>2</td>\n",
       "      <td>2</td>\n",
       "      <td>57</td>\n",
       "      <td>191</td>\n",
       "      <td>0</td>\n",
       "      <td>123</td>\n",
       "      <td>133</td>\n",
       "      <td>47</td>\n",
       "      <td>40</td>\n",
       "      <td>190</td>\n",
       "    </tr>\n",
       "    <tr>\n",
       "      <th>3</th>\n",
       "      <td>3</td>\n",
       "      <td>3</td>\n",
       "      <td>5</td>\n",
       "      <td>27</td>\n",
       "      <td>2</td>\n",
       "      <td>73</td>\n",
       "      <td>32</td>\n",
       "      <td>222</td>\n",
       "      <td>155</td>\n",
       "      <td>33</td>\n",
       "    </tr>\n",
       "    <tr>\n",
       "      <th>4</th>\n",
       "      <td>4</td>\n",
       "      <td>4</td>\n",
       "      <td>2</td>\n",
       "      <td>183</td>\n",
       "      <td>0</td>\n",
       "      <td>98</td>\n",
       "      <td>93</td>\n",
       "      <td>27</td>\n",
       "      <td>20</td>\n",
       "      <td>157</td>\n",
       "    </tr>\n",
       "  </tbody>\n",
       "</table>\n",
       "</div>"
      ],
      "text/plain": [
       "   Country  Other names  ISO 3166-1 alpha-3 CODE  Population  Continent  \\\n",
       "0        0            0                        1         188          1   \n",
       "1        1            1                        4          88          2   \n",
       "2        2            2                       57         191          0   \n",
       "3        3            3                        5          27          2   \n",
       "4        4            4                        2         183          0   \n",
       "\n",
       "   Total Cases  Total Deaths  Total Cases per one mill  \\\n",
       "0          113           136                        40   \n",
       "1          124           112                       114   \n",
       "2          123           133                        47   \n",
       "3           73            32                       222   \n",
       "4           98            93                        27   \n",
       "\n",
       "   Total Deaths per one mill  Death percentage  \n",
       "0                         47               209  \n",
       "1                        122               132  \n",
       "2                         40               190  \n",
       "3                        155                33  \n",
       "4                         20               157  "
      ]
     },
     "execution_count": 10,
     "metadata": {},
     "output_type": "execute_result"
    }
   ],
   "source": [
    "le = LabelEncoder()\n",
    "\n",
    "df['Country'] = le.fit_transform(df['Country'])\n",
    "df['Continent'] = le.fit_transform(df['Continent'])\n",
    "df['Other names'] = le.fit_transform(df['Other names'])\n",
    "df['ISO 3166-1 alpha-3 CODE'] = le.fit_transform(df['ISO 3166-1 alpha-3 CODE'])\n",
    "df[\"Population\"] = le.fit_transform(df[\"Population\"])\n",
    "df['Total Cases'] = le.fit_transform(df['Total Cases'])\n",
    "df['Total Cases per one mill'] = le.fit_transform(df['Total Cases per one mill'])\n",
    "df['Total Deaths per one mill'] = le.fit_transform(df['Total Deaths per one mill'])\n",
    "df['Total Deaths'] = le.fit_transform(df['Total Deaths'])\n",
    "df[\"Death percentage\"] = le.fit_transform(df[\"Death percentage\"])\n",
    "df.head()"
   ]
  },
  {
   "cell_type": "code",
   "execution_count": 11,
   "metadata": {},
   "outputs": [],
   "source": [
    "#Mapping categorical value\n",
    "#continent_map = {'Northern America': 6, 'Oceania': 5, 'Latin America and the Caribbean': 4, 'Africa': 3, 'Europe': 2, 'Asia': 1}\n",
    "#df['Continent'] = df['Continent'].map(continent_map)\n",
    "#df.head()"
   ]
  },
  {
   "cell_type": "code",
   "execution_count": 12,
   "metadata": {},
   "outputs": [
    {
     "data": {
      "text/plain": [
       "array([[-1.72436983, -1.72436983, -1.70897368, ..., -1.10852347,\n",
       "        -0.73630958,  1.60438329],\n",
       "       [-1.70897368, -1.70897368, -1.6627852 , ...,  0.03079232,\n",
       "         0.49929346,  0.41509951],\n",
       "       [-1.69357752, -1.69357752, -0.84678876, ..., -1.00075035,\n",
       "        -0.85163253,  1.31092365],\n",
       "       ...,\n",
       "       [ 1.69357752,  1.6627852 ,  1.67818136, ..., -1.61659672,\n",
       "        -1.11522784,  1.72794524],\n",
       "       [ 1.70897368,  1.67818136,  1.70897368, ..., -0.73901564,\n",
       "        -0.68688546,  0.39965427],\n",
       "       [ 1.72436983,  1.69357752,  1.72436983, ..., -0.7544118 ,\n",
       "        -0.45623956,  1.04835451]])"
      ]
     },
     "execution_count": 12,
     "metadata": {},
     "output_type": "execute_result"
    }
   ],
   "source": [
    "scaler = StandardScaler()\n",
    "\n",
    "# Melakukan scaling pada dataframe\n",
    "scaled_data = scaler.fit_transform(df)\n",
    "scaled_data"
   ]
  },
  {
   "cell_type": "code",
   "execution_count": 13,
   "metadata": {},
   "outputs": [
    {
     "data": {
      "text/html": [
       "<div>\n",
       "<style scoped>\n",
       "    .dataframe tbody tr th:only-of-type {\n",
       "        vertical-align: middle;\n",
       "    }\n",
       "\n",
       "    .dataframe tbody tr th {\n",
       "        vertical-align: top;\n",
       "    }\n",
       "\n",
       "    .dataframe thead th {\n",
       "        text-align: right;\n",
       "    }\n",
       "</style>\n",
       "<table border=\"1\" class=\"dataframe\">\n",
       "  <thead>\n",
       "    <tr style=\"text-align: right;\">\n",
       "      <th></th>\n",
       "      <th>Country</th>\n",
       "      <th>Other names</th>\n",
       "      <th>ISO 3166-1 alpha-3 CODE</th>\n",
       "      <th>Population</th>\n",
       "      <th>Continent</th>\n",
       "      <th>Total Cases</th>\n",
       "      <th>Total Deaths</th>\n",
       "      <th>Total Cases per one mill</th>\n",
       "      <th>Total Deaths per one mill</th>\n",
       "      <th>Death percentage</th>\n",
       "    </tr>\n",
       "  </thead>\n",
       "  <tbody>\n",
       "    <tr>\n",
       "      <th>0</th>\n",
       "      <td>0</td>\n",
       "      <td>0</td>\n",
       "      <td>1</td>\n",
       "      <td>188</td>\n",
       "      <td>1</td>\n",
       "      <td>113</td>\n",
       "      <td>136</td>\n",
       "      <td>40</td>\n",
       "      <td>47</td>\n",
       "      <td>209</td>\n",
       "    </tr>\n",
       "    <tr>\n",
       "      <th>1</th>\n",
       "      <td>1</td>\n",
       "      <td>1</td>\n",
       "      <td>4</td>\n",
       "      <td>88</td>\n",
       "      <td>2</td>\n",
       "      <td>124</td>\n",
       "      <td>112</td>\n",
       "      <td>114</td>\n",
       "      <td>122</td>\n",
       "      <td>132</td>\n",
       "    </tr>\n",
       "    <tr>\n",
       "      <th>2</th>\n",
       "      <td>2</td>\n",
       "      <td>2</td>\n",
       "      <td>57</td>\n",
       "      <td>191</td>\n",
       "      <td>0</td>\n",
       "      <td>123</td>\n",
       "      <td>133</td>\n",
       "      <td>47</td>\n",
       "      <td>40</td>\n",
       "      <td>190</td>\n",
       "    </tr>\n",
       "    <tr>\n",
       "      <th>3</th>\n",
       "      <td>3</td>\n",
       "      <td>3</td>\n",
       "      <td>5</td>\n",
       "      <td>27</td>\n",
       "      <td>2</td>\n",
       "      <td>73</td>\n",
       "      <td>32</td>\n",
       "      <td>222</td>\n",
       "      <td>155</td>\n",
       "      <td>33</td>\n",
       "    </tr>\n",
       "    <tr>\n",
       "      <th>4</th>\n",
       "      <td>4</td>\n",
       "      <td>4</td>\n",
       "      <td>2</td>\n",
       "      <td>183</td>\n",
       "      <td>0</td>\n",
       "      <td>98</td>\n",
       "      <td>93</td>\n",
       "      <td>27</td>\n",
       "      <td>20</td>\n",
       "      <td>157</td>\n",
       "    </tr>\n",
       "  </tbody>\n",
       "</table>\n",
       "</div>"
      ],
      "text/plain": [
       "   Country  Other names  ISO 3166-1 alpha-3 CODE  Population  Continent  \\\n",
       "0        0            0                        1         188          1   \n",
       "1        1            1                        4          88          2   \n",
       "2        2            2                       57         191          0   \n",
       "3        3            3                        5          27          2   \n",
       "4        4            4                        2         183          0   \n",
       "\n",
       "   Total Cases  Total Deaths  Total Cases per one mill  \\\n",
       "0          113           136                        40   \n",
       "1          124           112                       114   \n",
       "2          123           133                        47   \n",
       "3           73            32                       222   \n",
       "4           98            93                        27   \n",
       "\n",
       "   Total Deaths per one mill  Death percentage  \n",
       "0                         47               209  \n",
       "1                        122               132  \n",
       "2                         40               190  \n",
       "3                        155                33  \n",
       "4                         20               157  "
      ]
     },
     "execution_count": 13,
     "metadata": {},
     "output_type": "execute_result"
    }
   ],
   "source": [
    "df.head()"
   ]
  },
  {
   "cell_type": "markdown",
   "metadata": {
    "id": "ZPx1qmFr3ouX"
   },
   "source": [
    "## K-Means Clustering"
   ]
  },
  {
   "cell_type": "markdown",
   "metadata": {
    "id": "BAHb1xo_A3m5"
   },
   "source": [
    "Dengan elbow method, tentukan jumlah cluster yang ingin dibentuk\n",
    "\n",
    "Gunakan range elbow range(1, 11)"
   ]
  },
  {
   "cell_type": "code",
   "execution_count": 14,
   "metadata": {
    "id": "d1PAPly31946"
   },
   "outputs": [
    {
     "name": "stderr",
     "output_type": "stream",
     "text": [
      "C:\\Users\\KENT LEE\\Downloads\\Anacondaa\\lib\\site-packages\\sklearn\\cluster\\_kmeans.py:1036: UserWarning: KMeans is known to have a memory leak on Windows with MKL, when there are less chunks than available threads. You can avoid it by setting the environment variable OMP_NUM_THREADS=1.\n",
      "  warnings.warn(\n"
     ]
    },
    {
     "data": {
      "image/png": "[encoded data removed]",
      "text/plain": [
       "<Figure size 864x432 with 1 Axes>"
      ]
     },
     "metadata": {
      "needs_background": "light"
     },
     "output_type": "display_data"
    }
   ],
   "source": [
    "from sklearn.cluster import KMeans\n",
    "kmeans_kwargs = {\"init\" : \"k-means++\",\"n_init\" :10,\"max_iter\":300, \"random_state\":42}\n",
    "sse=[]\n",
    "# check the inertia for each K\n",
    "for i in range(1, 11): \n",
    "    kmeans = KMeans(n_clusters = i, **kmeans_kwargs)\n",
    "    kmeans.fit(scaled_data) \n",
    "    sse.append(kmeans.inertia_)\n",
    "    \n",
    "knee = KneeLocator(range(1, 11), sse, curve=\"convex\", direction=\"decreasing\")\n",
    "plt.figure(figsize=(12, 6))\n",
    "plt.plot(range(1,11), sse, color='black')\n",
    "plt.scatter(range(1,11),sse,color='red')\n",
    "plt.title('SSE vs. Number of Clusters (K)')\n",
    "plt.xlabel('Number of Clusters (K)')\n",
    "plt.ylabel('SSE')\n",
    "plt.grid(True)\n",
    "\n",
    "plt.vlines(knee.elbow, plt.ylim()[0], plt.ylim()[1], linestyles='--', colors='red', label='Elbow Point')\n",
    "plt.legend()\n",
    "plt.show()"
   ]
  },
  {
   "cell_type": "code",
   "execution_count": 15,
   "metadata": {},
   "outputs": [
    {
     "name": "stdout",
     "output_type": "stream",
     "text": [
      "The best k for you model is 4\n"
     ]
    }
   ],
   "source": [
    "#using kneelocator to find the elbow/knee\n",
    "kneed = KneeLocator(range(1,11), sse, curve=\"convex\", direction=\"decreasing\")\n",
    "print(\"The best k for you model is\", kneed.elbow)"
   ]
  },
  {
   "cell_type": "markdown",
   "metadata": {
    "id": "riWXo9djBIkj"
   },
   "source": [
    "Training model K-Means pada dataset dengan jumlah cluster yang Anda tentukan"
   ]
  },
  {
   "cell_type": "code",
   "execution_count": 16,
   "metadata": {
    "id": "mvT6Yql2BNMl"
   },
   "outputs": [
    {
     "data": {
      "text/html": [
       "<div>\n",
       "<style scoped>\n",
       "    .dataframe tbody tr th:only-of-type {\n",
       "        vertical-align: middle;\n",
       "    }\n",
       "\n",
       "    .dataframe tbody tr th {\n",
       "        vertical-align: top;\n",
       "    }\n",
       "\n",
       "    .dataframe thead th {\n",
       "        text-align: right;\n",
       "    }\n",
       "</style>\n",
       "<table border=\"1\" class=\"dataframe\">\n",
       "  <thead>\n",
       "    <tr style=\"text-align: right;\">\n",
       "      <th></th>\n",
       "      <th>Country</th>\n",
       "      <th>Other names</th>\n",
       "      <th>ISO 3166-1 alpha-3 CODE</th>\n",
       "      <th>Population</th>\n",
       "      <th>Continent</th>\n",
       "      <th>Total Cases</th>\n",
       "      <th>Total Deaths</th>\n",
       "      <th>Total Cases per one mill</th>\n",
       "      <th>Total Deaths per one mill</th>\n",
       "      <th>Death percentage</th>\n",
       "      <th>Cluster</th>\n",
       "    </tr>\n",
       "  </thead>\n",
       "  <tbody>\n",
       "    <tr>\n",
       "      <th>0</th>\n",
       "      <td>0</td>\n",
       "      <td>0</td>\n",
       "      <td>1</td>\n",
       "      <td>188</td>\n",
       "      <td>1</td>\n",
       "      <td>113</td>\n",
       "      <td>136</td>\n",
       "      <td>40</td>\n",
       "      <td>47</td>\n",
       "      <td>209</td>\n",
       "      <td>1</td>\n",
       "    </tr>\n",
       "    <tr>\n",
       "      <th>1</th>\n",
       "      <td>1</td>\n",
       "      <td>1</td>\n",
       "      <td>4</td>\n",
       "      <td>88</td>\n",
       "      <td>2</td>\n",
       "      <td>124</td>\n",
       "      <td>112</td>\n",
       "      <td>114</td>\n",
       "      <td>122</td>\n",
       "      <td>132</td>\n",
       "      <td>1</td>\n",
       "    </tr>\n",
       "    <tr>\n",
       "      <th>2</th>\n",
       "      <td>2</td>\n",
       "      <td>2</td>\n",
       "      <td>57</td>\n",
       "      <td>191</td>\n",
       "      <td>0</td>\n",
       "      <td>123</td>\n",
       "      <td>133</td>\n",
       "      <td>47</td>\n",
       "      <td>40</td>\n",
       "      <td>190</td>\n",
       "      <td>0</td>\n",
       "    </tr>\n",
       "    <tr>\n",
       "      <th>3</th>\n",
       "      <td>3</td>\n",
       "      <td>3</td>\n",
       "      <td>5</td>\n",
       "      <td>27</td>\n",
       "      <td>2</td>\n",
       "      <td>73</td>\n",
       "      <td>32</td>\n",
       "      <td>222</td>\n",
       "      <td>155</td>\n",
       "      <td>33</td>\n",
       "      <td>1</td>\n",
       "    </tr>\n",
       "    <tr>\n",
       "      <th>4</th>\n",
       "      <td>4</td>\n",
       "      <td>4</td>\n",
       "      <td>2</td>\n",
       "      <td>183</td>\n",
       "      <td>0</td>\n",
       "      <td>98</td>\n",
       "      <td>93</td>\n",
       "      <td>27</td>\n",
       "      <td>20</td>\n",
       "      <td>157</td>\n",
       "      <td>0</td>\n",
       "    </tr>\n",
       "  </tbody>\n",
       "</table>\n",
       "</div>"
      ],
      "text/plain": [
       "   Country  Other names  ISO 3166-1 alpha-3 CODE  Population  Continent  \\\n",
       "0        0            0                        1         188          1   \n",
       "1        1            1                        4          88          2   \n",
       "2        2            2                       57         191          0   \n",
       "3        3            3                        5          27          2   \n",
       "4        4            4                        2         183          0   \n",
       "\n",
       "   Total Cases  Total Deaths  Total Cases per one mill  \\\n",
       "0          113           136                        40   \n",
       "1          124           112                       114   \n",
       "2          123           133                        47   \n",
       "3           73            32                       222   \n",
       "4           98            93                        27   \n",
       "\n",
       "   Total Deaths per one mill  Death percentage  Cluster  \n",
       "0                         47               209        1  \n",
       "1                        122               132        1  \n",
       "2                         40               190        0  \n",
       "3                        155                33        1  \n",
       "4                         20               157        0  "
      ]
     },
     "execution_count": 16,
     "metadata": {},
     "output_type": "execute_result"
    }
   ],
   "source": [
    "#Group into 4 cluster\n",
    "kmeans1 = KMeans(n_clusters=4,init=\"random\").fit(scaled_data)\n",
    "sse.append(kmeans.inertia_)\n",
    "df_kmeans = kmeans1.predict(scaled_data)\n",
    "df[\"Cluster\"]= df_kmeans\n",
    "df.head()"
   ]
  },
  {
   "cell_type": "markdown",
   "metadata": {
    "id": "DySLxlWqBNyH"
   },
   "source": [
    "# Tampilkan dalam bentuk dataframe kesimpulan dari cluster:\n",
    "\n",
    "1. kolom bertipe categorical: modus (gunakan pd.Series.mode untuk mencari modus, untuk menggunakan attribute ini tidak perlu pakai \" \")\n",
    "2. kolom bertipe continous : mean\n",
    "3. Hasil cluster: count\n",
    "\n",
    "karena datanya yang categorical dan ada redundant hanya ada pada feature continent, maka dari itu hanya muncul column continent saja dalam penggunaan pd.Series.mode, sedangkan Country dan Other names value-nya unique semua alias berbeda semua valuenya dan tidak redundant, maka dari itu tidak muncul pada saat menggunakan pd.Series.mode ini"
   ]
  },
  {
   "cell_type": "code",
   "execution_count": 17,
   "metadata": {},
   "outputs": [
    {
     "name": "stderr",
     "output_type": "stream",
     "text": [
      "C:\\Users\\KENT LEE\\AppData\\Local\\Temp\\ipykernel_12248\\287028578.py:1: FutureWarning: Indexing with multiple keys (implicitly converted to a tuple of keys) will be deprecated, use a list instead.\n",
      "  df.groupby(\"Cluster\")[\"Country\",\"Other names\",\"Continent\"].agg(pd.Series.mode)\n",
      "C:\\Users\\KENT LEE\\AppData\\Local\\Temp\\ipykernel_12248\\287028578.py:1: FutureWarning: ['Country', 'Other names'] did not aggregate successfully. If any error is raised this will raise in a future version of pandas. Drop these columns/ops to avoid this warning.\n",
      "  df.groupby(\"Cluster\")[\"Country\",\"Other names\",\"Continent\"].agg(pd.Series.mode)\n"
     ]
    },
    {
     "data": {
      "text/html": [
       "<div>\n",
       "<style scoped>\n",
       "    .dataframe tbody tr th:only-of-type {\n",
       "        vertical-align: middle;\n",
       "    }\n",
       "\n",
       "    .dataframe tbody tr th {\n",
       "        vertical-align: top;\n",
       "    }\n",
       "\n",
       "    .dataframe thead th {\n",
       "        text-align: right;\n",
       "    }\n",
       "</style>\n",
       "<table border=\"1\" class=\"dataframe\">\n",
       "  <thead>\n",
       "    <tr style=\"text-align: right;\">\n",
       "      <th></th>\n",
       "      <th>Continent</th>\n",
       "    </tr>\n",
       "    <tr>\n",
       "      <th>Cluster</th>\n",
       "      <th></th>\n",
       "    </tr>\n",
       "  </thead>\n",
       "  <tbody>\n",
       "    <tr>\n",
       "      <th>0</th>\n",
       "      <td>0</td>\n",
       "    </tr>\n",
       "    <tr>\n",
       "      <th>1</th>\n",
       "      <td>3</td>\n",
       "    </tr>\n",
       "    <tr>\n",
       "      <th>2</th>\n",
       "      <td>3</td>\n",
       "    </tr>\n",
       "    <tr>\n",
       "      <th>3</th>\n",
       "      <td>1</td>\n",
       "    </tr>\n",
       "  </tbody>\n",
       "</table>\n",
       "</div>"
      ],
      "text/plain": [
       "         Continent\n",
       "Cluster           \n",
       "0                0\n",
       "1                3\n",
       "2                3\n",
       "3                1"
      ]
     },
     "execution_count": 17,
     "metadata": {},
     "output_type": "execute_result"
    }
   ],
   "source": [
    "df.groupby(\"Cluster\")[\"Country\",\"Other names\",\"Continent\"].agg(pd.Series.mode)"
   ]
  },
  {
   "cell_type": "code",
   "execution_count": 18,
   "metadata": {},
   "outputs": [
    {
     "name": "stderr",
     "output_type": "stream",
     "text": [
      "C:\\Users\\KENT LEE\\AppData\\Local\\Temp\\ipykernel_12248\\3567072672.py:1: FutureWarning: Indexing with multiple keys (implicitly converted to a tuple of keys) will be deprecated, use a list instead.\n",
      "  df.groupby(\"Cluster\")[\"Total Cases\", \"Total Deaths\", \"Total Cases per one mill\", \"Total Deaths per one mill\", \"Death percentage\"].agg(pd.Series.mean)\n"
     ]
    },
    {
     "data": {
      "text/html": [
       "<div>\n",
       "<style scoped>\n",
       "    .dataframe tbody tr th:only-of-type {\n",
       "        vertical-align: middle;\n",
       "    }\n",
       "\n",
       "    .dataframe tbody tr th {\n",
       "        vertical-align: top;\n",
       "    }\n",
       "\n",
       "    .dataframe thead th {\n",
       "        text-align: right;\n",
       "    }\n",
       "</style>\n",
       "<table border=\"1\" class=\"dataframe\">\n",
       "  <thead>\n",
       "    <tr style=\"text-align: right;\">\n",
       "      <th></th>\n",
       "      <th>Total Cases</th>\n",
       "      <th>Total Deaths</th>\n",
       "      <th>Total Cases per one mill</th>\n",
       "      <th>Total Deaths per one mill</th>\n",
       "      <th>Death percentage</th>\n",
       "    </tr>\n",
       "    <tr>\n",
       "      <th>Cluster</th>\n",
       "      <th></th>\n",
       "      <th></th>\n",
       "      <th></th>\n",
       "      <th></th>\n",
       "      <th></th>\n",
       "    </tr>\n",
       "  </thead>\n",
       "  <tbody>\n",
       "    <tr>\n",
       "      <th>0</th>\n",
       "      <td>71.736842</td>\n",
       "      <td>71.543860</td>\n",
       "      <td>34.491228</td>\n",
       "      <td>28.438596</td>\n",
       "      <td>147.140351</td>\n",
       "    </tr>\n",
       "    <tr>\n",
       "      <th>1</th>\n",
       "      <td>144.698113</td>\n",
       "      <td>126.754717</td>\n",
       "      <td>148.283019</td>\n",
       "      <td>134.943396</td>\n",
       "      <td>107.377358</td>\n",
       "    </tr>\n",
       "    <tr>\n",
       "      <th>2</th>\n",
       "      <td>45.826923</td>\n",
       "      <td>23.057692</td>\n",
       "      <td>137.615385</td>\n",
       "      <td>81.903846</td>\n",
       "      <td>46.711538</td>\n",
       "    </tr>\n",
       "    <tr>\n",
       "      <th>3</th>\n",
       "      <td>172.015873</td>\n",
       "      <td>153.650794</td>\n",
       "      <td>130.460317</td>\n",
       "      <td>120.619048</td>\n",
       "      <td>113.428571</td>\n",
       "    </tr>\n",
       "  </tbody>\n",
       "</table>\n",
       "</div>"
      ],
      "text/plain": [
       "         Total Cases  Total Deaths  Total Cases per one mill  \\\n",
       "Cluster                                                        \n",
       "0          71.736842     71.543860                 34.491228   \n",
       "1         144.698113    126.754717                148.283019   \n",
       "2          45.826923     23.057692                137.615385   \n",
       "3         172.015873    153.650794                130.460317   \n",
       "\n",
       "         Total Deaths per one mill  Death percentage  \n",
       "Cluster                                               \n",
       "0                        28.438596        147.140351  \n",
       "1                       134.943396        107.377358  \n",
       "2                        81.903846         46.711538  \n",
       "3                       120.619048        113.428571  "
      ]
     },
     "execution_count": 18,
     "metadata": {},
     "output_type": "execute_result"
    }
   ],
   "source": [
    "df.groupby(\"Cluster\")[\"Total Cases\", \"Total Deaths\", \"Total Cases per one mill\", \"Total Deaths per one mill\", \"Death percentage\"].agg(pd.Series.mean)"
   ]
  },
  {
   "cell_type": "code",
   "execution_count": 19,
   "metadata": {
    "id": "r5jr3tOVBR0o"
   },
   "outputs": [
    {
     "data": {
      "text/plain": [
       "Cluster\n",
       "0    57\n",
       "1    53\n",
       "2    52\n",
       "3    63\n",
       "Name: Cluster, dtype: int64"
      ]
     },
     "execution_count": 19,
     "metadata": {},
     "output_type": "execute_result"
    }
   ],
   "source": [
    "df.groupby(\"Cluster\")[\"Cluster\"].agg(pd.Series.count)"
   ]
  },
  {
   "cell_type": "markdown",
   "metadata": {
    "id": "OZruhWh5BSt7"
   },
   "source": [
    "## Hierarchical Clustering\n",
    "Hierarchical clustering ini menggunakan metode agglomerative."
   ]
  },
  {
   "cell_type": "markdown",
   "metadata": {
    "id": "ie67vRUmJGiy"
   },
   "source": [
    "Plot Dendrogram untuk membantu menentukan jumlah cluster, gunakan max method."
   ]
  },
  {
   "cell_type": "code",
   "execution_count": 20,
   "metadata": {
    "id": "YYVplrU1JRLF"
   },
   "outputs": [
    {
     "data": {
      "image/png": "[encoded data removed]",
      "text/plain": [
       "<Figure size 1440x504 with 1 Axes>"
      ]
     },
     "metadata": {
      "needs_background": "light"
     },
     "output_type": "display_data"
    }
   ],
   "source": [
    "plt.figure(figsize=(20,7))\n",
    "linkage_data = linkage(scaled_data, method='complete')\n",
    "dendrogram(linkage_data)\n",
    "plt.show()"
   ]
  },
  {
   "cell_type": "code",
   "execution_count": 21,
   "metadata": {},
   "outputs": [
    {
     "data": {
      "image/png": "[encoded data removed]",
      "text/plain": [
       "<Figure size 1440x504 with 1 Axes>"
      ]
     },
     "metadata": {
      "needs_background": "light"
     },
     "output_type": "display_data"
    }
   ],
   "source": [
    "plt.figure(figsize=(20,7))\n",
    "linkage_data = linkage(scaled_data, method='single')\n",
    "dendrogram(linkage_data)\n",
    "plt.show()"
   ]
  },
  {
   "cell_type": "code",
   "execution_count": 22,
   "metadata": {},
   "outputs": [
    {
     "data": {
      "image/png": "[encoded data removed]",
      "text/plain": [
       "<Figure size 1440x504 with 1 Axes>"
      ]
     },
     "metadata": {
      "needs_background": "light"
     },
     "output_type": "display_data"
    }
   ],
   "source": [
    "plt.figure(figsize=(20,7))\n",
    "linkage_data = linkage(scaled_data, method='ward')\n",
    "dendrogram(linkage_data)\n",
    "plt.show()"
   ]
  },
  {
   "cell_type": "code",
   "execution_count": 23,
   "metadata": {},
   "outputs": [
    {
     "data": {
      "image/png": "[encoded data removed]",
      "text/plain": [
       "<Figure size 1440x504 with 1 Axes>"
      ]
     },
     "metadata": {
      "needs_background": "light"
     },
     "output_type": "display_data"
    }
   ],
   "source": [
    "plt.figure(figsize=(20,7))\n",
    "linkage_data = linkage(scaled_data, method='average')\n",
    "dendrogram(linkage_data)\n",
    "plt.show()"
   ]
  },
  {
   "cell_type": "markdown",
   "metadata": {
    "id": "JPMw9jAiJRsE"
   },
   "source": [
    "Lakukan hierarchical clustering dengan metric Euclidean dan jumlah cluster sama dengan cluster Kmeans"
   ]
  },
  {
   "cell_type": "code",
   "execution_count": 24,
   "metadata": {
    "id": "-3Ep2nP0JYIw"
   },
   "outputs": [
    {
     "name": "stdout",
     "output_type": "stream",
     "text": [
      "[0 3 0 2 0 2 2 3 3 2 3 3 3 2 3 0 2 3 3 2 0 2 0 3 3 3 3 2 3 3 0 0 3 0 0 3 0\n",
      " 2 2 0 2 3 0 3 0 0 2 3 3 3 2 3 3 3 0 2 3 0 3 0 2 0 0 3 0 0 2 2 2 3 3 2 2 0\n",
      " 0 3 3 0 2 3 2 2 2 3 0 0 2 2 3 3 3 2 1 1 1 1 3 2 3 3 0 2 1 1 1 0 2 2 0 0 2\n",
      " 1 0 0 0 2 2 2 0 0 0 1 2 0 2 2 2 0 0 2 1 2 1 2 2 2 2 1 0 1 0 1 1 2 2 2 0 0\n",
      " 2 1 2 2 1 2 2 1 2 1 1 1 1 1 2 2 1 1 0 1 0 2 2 2 2 2 2 0 1 0 1 2 0 2 2 1 1\n",
      " 2 0 1 0 1 1 2 2 0 1 1 1 0 0 0 0 1 0 0 2 1 1 1 2 2 0 1 1 1 1 0 2 0 0 1 2 0\n",
      " 0 0 0]\n"
     ]
    }
   ],
   "source": [
    "model = AgglomerativeClustering(n_clusters=4, affinity='euclidean')\n",
    "label = model.fit_predict(scaled_data)\n",
    "print(label)"
   ]
  },
  {
   "cell_type": "markdown",
   "metadata": {
    "id": "lzXuHhs1JY72"
   },
   "source": [
    "Tampilkan dalam bentuk dataframe kesimpulan dari cluster dengan kriteria sama dengan kesimpulan di atas"
   ]
  },
  {
   "cell_type": "code",
   "execution_count": 25,
   "metadata": {
    "id": "v0SRlqauJ0_W"
   },
   "outputs": [
    {
     "name": "stderr",
     "output_type": "stream",
     "text": [
      "C:\\Users\\KENT LEE\\AppData\\Local\\Temp\\ipykernel_12248\\783924923.py:2: FutureWarning: Indexing with multiple keys (implicitly converted to a tuple of keys) will be deprecated, use a list instead.\n",
      "  df.groupby(\"Agglo\")[\"Country\",\"Other names\",\"Continent\"].agg(pd.Series.mode)\n",
      "C:\\Users\\KENT LEE\\AppData\\Local\\Temp\\ipykernel_12248\\783924923.py:2: FutureWarning: ['Country', 'Other names'] did not aggregate successfully. If any error is raised this will raise in a future version of pandas. Drop these columns/ops to avoid this warning.\n",
      "  df.groupby(\"Agglo\")[\"Country\",\"Other names\",\"Continent\"].agg(pd.Series.mode)\n"
     ]
    },
    {
     "data": {
      "text/html": [
       "<div>\n",
       "<style scoped>\n",
       "    .dataframe tbody tr th:only-of-type {\n",
       "        vertical-align: middle;\n",
       "    }\n",
       "\n",
       "    .dataframe tbody tr th {\n",
       "        vertical-align: top;\n",
       "    }\n",
       "\n",
       "    .dataframe thead th {\n",
       "        text-align: right;\n",
       "    }\n",
       "</style>\n",
       "<table border=\"1\" class=\"dataframe\">\n",
       "  <thead>\n",
       "    <tr style=\"text-align: right;\">\n",
       "      <th></th>\n",
       "      <th>Continent</th>\n",
       "    </tr>\n",
       "    <tr>\n",
       "      <th>Agglo</th>\n",
       "      <th></th>\n",
       "    </tr>\n",
       "  </thead>\n",
       "  <tbody>\n",
       "    <tr>\n",
       "      <th>0</th>\n",
       "      <td>0</td>\n",
       "    </tr>\n",
       "    <tr>\n",
       "      <th>1</th>\n",
       "      <td>1</td>\n",
       "    </tr>\n",
       "    <tr>\n",
       "      <th>2</th>\n",
       "      <td>3</td>\n",
       "    </tr>\n",
       "    <tr>\n",
       "      <th>3</th>\n",
       "      <td>2</td>\n",
       "    </tr>\n",
       "  </tbody>\n",
       "</table>\n",
       "</div>"
      ],
      "text/plain": [
       "       Continent\n",
       "Agglo           \n",
       "0              0\n",
       "1              1\n",
       "2              3\n",
       "3              2"
      ]
     },
     "execution_count": 25,
     "metadata": {},
     "output_type": "execute_result"
    }
   ],
   "source": [
    "df[\"Agglo\"] = label\n",
    "df.groupby(\"Agglo\")[\"Country\",\"Other names\",\"Continent\"].agg(pd.Series.mode)"
   ]
  },
  {
   "cell_type": "code",
   "execution_count": 26,
   "metadata": {},
   "outputs": [
    {
     "name": "stderr",
     "output_type": "stream",
     "text": [
      "C:\\Users\\KENT LEE\\AppData\\Local\\Temp\\ipykernel_12248\\2968897543.py:1: FutureWarning: Indexing with multiple keys (implicitly converted to a tuple of keys) will be deprecated, use a list instead.\n",
      "  df.groupby(\"Agglo\")[\"Total Cases\", \"Total Deaths\", \"Total Cases per one mill\", \"Total Deaths per one mill\", \"Death percentage\"].agg(pd.Series.mean)\n"
     ]
    },
    {
     "data": {
      "text/html": [
       "<div>\n",
       "<style scoped>\n",
       "    .dataframe tbody tr th:only-of-type {\n",
       "        vertical-align: middle;\n",
       "    }\n",
       "\n",
       "    .dataframe tbody tr th {\n",
       "        vertical-align: top;\n",
       "    }\n",
       "\n",
       "    .dataframe thead th {\n",
       "        text-align: right;\n",
       "    }\n",
       "</style>\n",
       "<table border=\"1\" class=\"dataframe\">\n",
       "  <thead>\n",
       "    <tr style=\"text-align: right;\">\n",
       "      <th></th>\n",
       "      <th>Total Cases</th>\n",
       "      <th>Total Deaths</th>\n",
       "      <th>Total Cases per one mill</th>\n",
       "      <th>Total Deaths per one mill</th>\n",
       "      <th>Death percentage</th>\n",
       "    </tr>\n",
       "    <tr>\n",
       "      <th>Agglo</th>\n",
       "      <th></th>\n",
       "      <th></th>\n",
       "      <th></th>\n",
       "      <th></th>\n",
       "      <th></th>\n",
       "    </tr>\n",
       "  </thead>\n",
       "  <tbody>\n",
       "    <tr>\n",
       "      <th>0</th>\n",
       "      <td>76.333333</td>\n",
       "      <td>74.090909</td>\n",
       "      <td>39.712121</td>\n",
       "      <td>30.909091</td>\n",
       "      <td>137.666667</td>\n",
       "    </tr>\n",
       "    <tr>\n",
       "      <th>1</th>\n",
       "      <td>181.977778</td>\n",
       "      <td>168.777778</td>\n",
       "      <td>129.555556</td>\n",
       "      <td>130.022222</td>\n",
       "      <td>125.155556</td>\n",
       "    </tr>\n",
       "    <tr>\n",
       "      <th>2</th>\n",
       "      <td>67.500000</td>\n",
       "      <td>44.108108</td>\n",
       "      <td>142.851351</td>\n",
       "      <td>97.635135</td>\n",
       "      <td>65.324324</td>\n",
       "    </tr>\n",
       "    <tr>\n",
       "      <th>3</th>\n",
       "      <td>168.900000</td>\n",
       "      <td>148.150000</td>\n",
       "      <td>154.450000</td>\n",
       "      <td>137.875000</td>\n",
       "      <td>102.525000</td>\n",
       "    </tr>\n",
       "  </tbody>\n",
       "</table>\n",
       "</div>"
      ],
      "text/plain": [
       "       Total Cases  Total Deaths  Total Cases per one mill  \\\n",
       "Agglo                                                        \n",
       "0        76.333333     74.090909                 39.712121   \n",
       "1       181.977778    168.777778                129.555556   \n",
       "2        67.500000     44.108108                142.851351   \n",
       "3       168.900000    148.150000                154.450000   \n",
       "\n",
       "       Total Deaths per one mill  Death percentage  \n",
       "Agglo                                               \n",
       "0                      30.909091        137.666667  \n",
       "1                     130.022222        125.155556  \n",
       "2                      97.635135         65.324324  \n",
       "3                     137.875000        102.525000  "
      ]
     },
     "execution_count": 26,
     "metadata": {},
     "output_type": "execute_result"
    }
   ],
   "source": [
    "df.groupby(\"Agglo\")[\"Total Cases\", \"Total Deaths\", \"Total Cases per one mill\", \"Total Deaths per one mill\", \"Death percentage\"].agg(pd.Series.mean)"
   ]
  },
  {
   "cell_type": "code",
   "execution_count": 27,
   "metadata": {},
   "outputs": [
    {
     "data": {
      "text/plain": [
       "Agglo\n",
       "0    66\n",
       "1    45\n",
       "2    74\n",
       "3    40\n",
       "Name: Agglo, dtype: int64"
      ]
     },
     "execution_count": 27,
     "metadata": {},
     "output_type": "execute_result"
    }
   ],
   "source": [
    "df.groupby(\"Agglo\")[\"Agglo\"].agg(pd.Series.count)"
   ]
  }
 ],
 "metadata": {
  "colab": {
   "provenance": []
  },
  "kernelspec": {
   "display_name": "Python 3 (ipykernel)",
   "language": "python",
   "name": "python3"
  },
  "language_info": {
   "codemirror_mode": {
    "name": "ipython",
    "version": 3
   },
   "file_extension": ".py",
   "mimetype": "text/x-python",
   "name": "python",
   "nbconvert_exporter": "python",
   "pygments_lexer": "ipython3",
   "version": "3.9.12"
  }
 },
 "nbformat": 4,
 "nbformat_minor": 1
}
